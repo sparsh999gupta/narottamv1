{
 "cells": [
  {
   "cell_type": "code",
   "execution_count": 1,
   "metadata": {
    "ExecuteTime": {
     "end_time": "2019-07-06T13:13:53.387027Z",
     "start_time": "2019-07-06T13:13:53.362095Z"
    }
   },
   "outputs": [],
   "source": [
    "import pydub"
   ]
  },
  {
   "cell_type": "code",
   "execution_count": 2,
   "metadata": {
    "ExecuteTime": {
     "end_time": "2019-07-06T13:13:53.454845Z",
     "start_time": "2019-07-06T13:13:53.390018Z"
    }
   },
   "outputs": [
    {
     "name": "stdout",
     "output_type": "stream",
     "text": [
      "Help on package pydub:\n",
      "\n",
      "NAME\n",
      "    pydub\n",
      "\n",
      "PACKAGE CONTENTS\n",
      "    audio_segment\n",
      "    effects\n",
      "    exceptions\n",
      "    generators\n",
      "    logging_utils\n",
      "    playback\n",
      "    pyaudioop\n",
      "    scipy_effects\n",
      "    silence\n",
      "    utils\n",
      "\n",
      "FILE\n",
      "    c:\\users\\sparsh\\anaconda3\\envs\\ml\\lib\\site-packages\\pydub\\__init__.py\n",
      "\n",
      "\n"
     ]
    }
   ],
   "source": [
    "help(pydub)"
   ]
  },
  {
   "cell_type": "code",
   "execution_count": 3,
   "metadata": {
    "ExecuteTime": {
     "end_time": "2019-07-06T13:13:53.544763Z",
     "start_time": "2019-07-06T13:13:53.458834Z"
    }
   },
   "outputs": [
    {
     "name": "stdout",
     "output_type": "stream",
     "text": [
      "G:\\kirtan_fest2\\15_-_Kirtan_Fest_2019_-_Hare_Krishna_Kirtan_Day-01_-_Purushottam_Prabhu_ISKCON_Chowpatty_0000.wav\n"
     ]
    }
   ],
   "source": [
    "from glob import glob\n",
    "# dir_name='G:\\\\LECTURE\\\\lecture_extra\\\\SP_HindiL1_721.wav'\n",
    "dir_name='G:\\\\kirtan_fest2\\\\15_-_Kirtan_Fest_2019_-_Hare_Krishna_Kirtan_Day-01_-_Purushottam_Prabhu_ISKCON_Chowpatty_0000.wav'\n",
    "print(dir_name)"
   ]
  },
  {
   "cell_type": "code",
   "execution_count": 4,
   "metadata": {
    "ExecuteTime": {
     "end_time": "2019-07-06T13:13:53.670662Z",
     "start_time": "2019-07-06T13:13:53.548754Z"
    }
   },
   "outputs": [
    {
     "name": "stdout",
     "output_type": "stream",
     "text": [
      "seconds = 5.0\n"
     ]
    }
   ],
   "source": [
    "import soundfile as sf\n",
    "f = sf.SoundFile(dir_name)\n",
    "print('seconds = {}'.format(len(f) / f.samplerate))\n",
    "SecondsOfAudio=float(format(len(f) / f.samplerate))"
   ]
  },
  {
   "cell_type": "code",
   "execution_count": 5,
   "metadata": {
    "ExecuteTime": {
     "end_time": "2019-07-06T13:13:53.819005Z",
     "start_time": "2019-07-06T13:13:53.673619Z"
    }
   },
   "outputs": [
    {
     "name": "stdout",
     "output_type": "stream",
     "text": [
      "<class 'float'>\n",
      "5.0\n"
     ]
    }
   ],
   "source": [
    "print(type(SecondsOfAudio))\n",
    "print(SecondsOfAudio)"
   ]
  },
  {
   "cell_type": "code",
   "execution_count": 6,
   "metadata": {
    "ExecuteTime": {
     "end_time": "2019-07-06T13:13:54.214308Z",
     "start_time": "2019-07-06T13:13:53.822988Z"
    }
   },
   "outputs": [
    {
     "name": "stdout",
     "output_type": "stream",
     "text": [
      "The type of the sample width is:<class 'int'>\n",
      "The Rate of the sample is:<class 'int'>\n",
      "The freq is %f Hz. 12701.07818149897\n",
      "The freq is %f Hz. 1337.2171427772116\n",
      "The freq is %f Hz. 268.8650450021591\n",
      "The freq is %f Hz. 901.920878194811\n",
      "The freq is %f Hz. 300.4903873266891\n",
      "The freq is %f Hz. 299.7279475770123\n",
      "The freq is %f Hz. 142.84671778963536\n",
      "The freq is %f Hz. 163.40246424987814\n",
      "The freq is %f Hz. 181.25973546736364\n",
      "The freq is %f Hz. 203.1351127137078\n",
      "The freq is %f Hz. 208.51002357517493\n",
      "The freq is %f Hz. 289.5460504531124\n",
      "The freq is %f Hz. 294.5692374942911\n",
      "The freq is %f Hz. 209.36632061848022\n",
      "The freq is %f Hz. 220.65208925252034\n",
      "The freq is %f Hz. 216.12144493297967\n",
      "The freq is %f Hz. 214.8480307195734\n",
      "The freq is %f Hz. 224.90119286099898\n",
      "The freq is %f Hz. 218.3265824210716\n",
      "The freq is %f Hz. 181.25585156523618\n",
      "The freq is %f Hz. 402.8054286471937\n",
      "The freq is %f Hz. 217.87088408277813\n",
      "The freq is %f Hz. 174.81599640012303\n",
      "The freq is %f Hz. 213.65984217159806\n",
      "The freq is %f Hz. 224.4144000299919\n",
      "The freq is %f Hz. 202.93643437169987\n",
      "The freq is %f Hz. 217.14019749935395\n",
      "The freq is %f Hz. 217.61053403818087\n",
      "The freq is %f Hz. 220.75389759001408\n",
      "The freq is %f Hz. 225.86969180186034\n",
      "The freq is %f Hz. 231.30168259565332\n",
      "The freq is %f Hz. 223.13331041123712\n",
      "The freq is %f Hz. 226.13690311164063\n",
      "The freq is %f Hz. 225.01862524392055\n",
      "The freq is %f Hz. 224.4797616145527\n",
      "The freq is %f Hz. 225.16620865118043\n",
      "The freq is %f Hz. 222.8032879933248\n",
      "The freq is %f Hz. 222.77073760438444\n",
      "The freq is %f Hz. 221.71533670943145\n",
      "The freq is %f Hz. 218.79735207363697\n",
      "The freq is %f Hz. 222.23767998802748\n",
      "The freq is %f Hz. 222.90321021860026\n",
      "The freq is %f Hz. 217.86025658261553\n",
      "The freq is %f Hz. 220.96706246755858\n",
      "The freq is %f Hz. 220.49819816436275\n",
      "The freq is %f Hz. 218.53418101872373\n",
      "The freq is %f Hz. 216.22069406176345\n",
      "The freq is %f Hz. 212.69086288811238\n",
      "The freq is %f Hz. 217.43510367762616\n",
      "The freq is %f Hz. 218.96523434749707\n",
      "The freq is %f Hz. 217.63126045021426\n",
      "The freq is %f Hz. 218.7474246843235\n",
      "The freq is %f Hz. 218.83591961271446\n",
      "The freq is %f Hz. 214.12258182793718\n",
      "The freq is %f Hz. 219.9372035699822\n",
      "The freq is %f Hz. 219.30854988365385\n",
      "The freq is %f Hz. 219.95868070586047\n",
      "The freq is %f Hz. 218.5035842888277\n",
      "The freq is %f Hz. 215.52244269552736\n",
      "The freq is %f Hz. 229.6819428360321\n",
      "The freq is %f Hz. 219.374917643864\n",
      "The freq is %f Hz. 112.9465886250575\n",
      "The freq is %f Hz. 222.77696835824952\n",
      "The freq is %f Hz. 222.57103684720357\n",
      "The freq is %f Hz. 218.4555716769882\n",
      "The freq is %f Hz. 220.81671846271715\n",
      "The freq is %f Hz. 220.91703559824862\n",
      "The freq is %f Hz. 220.4806955026582\n",
      "The freq is %f Hz. 221.53508572547648\n",
      "The freq is %f Hz. 220.40992861249507\n",
      "The freq is %f Hz. 218.69959451245026\n",
      "The freq is %f Hz. 221.36505204460448\n",
      "The freq is %f Hz. 220.35342884562797\n",
      "The freq is %f Hz. 221.0234483510612\n",
      "The freq is %f Hz. 220.44570018732983\n",
      "The freq is %f Hz. 221.27624244170272\n",
      "The freq is %f Hz. 223.24245079877875\n",
      "The freq is %f Hz. 221.58753012293155\n",
      "The freq is %f Hz. 221.68203623583076\n",
      "The freq is %f Hz. 221.44471954921863\n",
      "The freq is %f Hz. 221.87746088202715\n",
      "The freq is %f Hz. 223.07103023962657\n",
      "The freq is %f Hz. 221.35494716888027\n",
      "The freq is %f Hz. 220.92316752245344\n",
      "The freq is %f Hz. 218.0452497427725\n",
      "The freq is %f Hz. 296.33881512693273\n",
      "The freq is %f Hz. 296.18300339638074\n",
      "The freq is %f Hz. 297.0531492017361\n",
      "The freq is %f Hz. 297.73259385188527\n",
      "The freq is %f Hz. 296.8871473131517\n",
      "The freq is %f Hz. 297.6512434686404\n",
      "The freq is %f Hz. 221.47877615383192\n",
      "The freq is %f Hz. 220.35861616489365\n",
      "The freq is %f Hz. 222.16014887950584\n",
      "The freq is %f Hz. 218.83813965342424\n",
      "The freq is %f Hz. 220.898368098022\n",
      "The freq is %f Hz. 222.8383037112447\n",
      "The freq is %f Hz. 219.80518469623956\n",
      "The freq is %f Hz. 296.3554601085096\n",
      "The freq is %f Hz. 296.78634110572784\n",
      "The freq is %f Hz. 297.0049403086896\n",
      "The freq is %f Hz. 295.0656976138813\n",
      "The freq is %f Hz. 220.65786285763954\n",
      "The freq is %f Hz. 218.38149324808236\n",
      "The freq is %f Hz. 220.56547262802667\n",
      "The freq is %f Hz. 220.69149541770466\n",
      "The freq is %f Hz. 219.24003848490338\n",
      "The freq is %f Hz. 220.52749947184918\n",
      "The freq is %f Hz. 235.53364428438258\n",
      "The freq is %f Hz. 272.3112367827342\n",
      "The freq is %f Hz. 225.76107945353232\n",
      "The freq is %f Hz. 215.64495959560762\n",
      "The freq is %f Hz. 285.1608882116913\n",
      "The freq is %f Hz. 225.66384307626322\n",
      "The freq is %f Hz. 225.34123904888418\n",
      "The freq is %f Hz. 265.2179081323166\n",
      "The freq is %f Hz. 276.93996815793105\n"
     ]
    }
   ],
   "source": [
    "import pyaudio\n",
    "import wave\n",
    "import numpy as np\n",
    "\n",
    "chunk =2048\n",
    "#to be plotted on x-axis\n",
    "ArrayOfTimeXaxis=[] \n",
    "ArrayOfFrequencyYaxis=[]\n",
    "#open a wave file\n",
    "wf = wave.open(dir_name, 'rb')\n",
    "swidth = wf.getsampwidth()\n",
    "#just printing some extra things\n",
    "print('The type of the sample width is:',end='')\n",
    "print(type(swidth))\n",
    "RATE = wf.getframerate()\n",
    "print('The Rate of the sample is:',end='')\n",
    "print(type(RATE))\n",
    "#use a Blackman window\n",
    "window = np.blackman(chunk)\n",
    "# open stream\n",
    "# p = pyaudio.PyAudio()\n",
    "# stream = p.open(format =\n",
    "#                 p.get_format_from_width(wf.getsampwidth()),\n",
    "#                 channels = wf.getnchannels(),\n",
    "#                 rate = RATE,\n",
    "#                 output = True)\n",
    "\n",
    "# read some data\n",
    "\n",
    "\n",
    "data = wf.readframes(chunk)\n",
    "# play stream and find the frequency of each chunk\n",
    "while len(data) == chunk*swidth:\n",
    "    \n",
    "    # write data out to the audio stream\n",
    "#     stream.write(data)\n",
    "    # unpack the data and times by the hamming window\n",
    "    indata = np.array(wave.struct.unpack(\"%dh\"%(len(data)/swidth),\\\n",
    "                                         data))*window\n",
    "    # Take the fft and square each value\n",
    "    fftData=abs(np.fft.rfft(indata))**2\n",
    "    # find the maximum\n",
    "    which = fftData[1:].argmax() + 1\n",
    "    # use quadratic interpolation around the max\n",
    "    if which != len(fftData)-1:\n",
    "        y0,y1,y2 = np.log(fftData[which-1:which+2:])\n",
    "        x1 = (y2 - y0) * .5 / (2 * y1 - y2 - y0)\n",
    "        # find the frequency and output it\n",
    "        thefreq = (which+x1)*RATE/chunk\n",
    "        print(\"The freq is %f Hz.\",thefreq)\n",
    "        ArrayOfFrequencyYaxis.append(thefreq)\n",
    "    else:\n",
    "        thefreq = which*RATE/chunk\n",
    "        print(\"The freq is %f Hz.\",thefreq)\n",
    "        ArrayOfFrequencyYaxis.append(thefreq)\n",
    "    # read some more data\n",
    "    data = wf.readframes(chunk)\n",
    "# if data:\n",
    "#     stream.write(data)\n",
    "# stream.close()\n",
    "# p.terminate()"
   ]
  },
  {
   "cell_type": "code",
   "execution_count": 7,
   "metadata": {
    "ExecuteTime": {
     "end_time": "2019-07-06T13:13:54.221284Z",
     "start_time": "2019-07-06T13:13:54.216297Z"
    }
   },
   "outputs": [],
   "source": [
    "temp=SecondsOfAudio/len(ArrayOfFrequencyYaxis)\n",
    "for i in range(1,len(ArrayOfFrequencyYaxis)+1):\n",
    "  ArrayOfTimeXaxis.append(temp*i)  "
   ]
  },
  {
   "cell_type": "code",
   "execution_count": 8,
   "metadata": {
    "ExecuteTime": {
     "end_time": "2019-07-06T13:13:54.329307Z",
     "start_time": "2019-07-06T13:13:54.224275Z"
    }
   },
   "outputs": [],
   "source": [
    "ArrayOfTimeXaxis=np.array(ArrayOfTimeXaxis)\n",
    "ArrayOfFrequencyYaxis=np.array(ArrayOfFrequencyYaxis)"
   ]
  },
  {
   "cell_type": "code",
   "execution_count": 9,
   "metadata": {
    "ExecuteTime": {
     "end_time": "2019-07-06T13:13:54.447929Z",
     "start_time": "2019-07-06T13:13:54.331305Z"
    }
   },
   "outputs": [],
   "source": [
    "# ArrayOfTimeXaxis=ArrayOfTimeXaxis[::-1]\n",
    "ArrayOfTimeXaxis=ArrayOfTimeXaxis.round(3)"
   ]
  },
  {
   "cell_type": "code",
   "execution_count": 10,
   "metadata": {
    "ExecuteTime": {
     "end_time": "2019-07-06T13:13:54.559584Z",
     "start_time": "2019-07-06T13:13:54.458859Z"
    }
   },
   "outputs": [
    {
     "name": "stdout",
     "output_type": "stream",
     "text": [
      "Length of frequency array: 117\n",
      "Length of time array: 117\n"
     ]
    }
   ],
   "source": [
    "print('Length of frequency array: ',end='')\n",
    "print(len(ArrayOfFrequencyYaxis))\n",
    "print('Length of time array: ',end='')\n",
    "print(len(ArrayOfTimeXaxis))"
   ]
  },
  {
   "cell_type": "code",
   "execution_count": 11,
   "metadata": {
    "ExecuteTime": {
     "end_time": "2019-07-06T13:13:55.081188Z",
     "start_time": "2019-07-06T13:13:54.565567Z"
    }
   },
   "outputs": [
    {
     "data": {
      "text/plain": [
       "[<matplotlib.lines.Line2D at 0x1fd18554518>]"
      ]
     },
     "execution_count": 11,
     "metadata": {},
     "output_type": "execute_result"
    }
   ],
   "source": [
    "import matplotlib.pyplot as plt\n",
    "#%matplotlib tk\n",
    "plt.xlabel('Time Elapsed')\n",
    "plt.ylabel('Frequency or pitch')\n",
    "plt.plot(ArrayOfTimeXaxis,ArrayOfFrequencyYaxis)"
   ]
  },
  {
   "cell_type": "code",
   "execution_count": 12,
   "metadata": {
    "ExecuteTime": {
     "end_time": "2019-07-06T13:14:28.490367Z",
     "start_time": "2019-07-06T13:13:55.083185Z"
    }
   },
   "outputs": [],
   "source": [
    "import matplotlib.pyplot as plt\n",
    "from time import sleep\n",
    "x=ArrayOfTimeXaxis\n",
    "y=ArrayOfFrequencyYaxis\n",
    "get_ipython().magic('matplotlib tk')\n",
    "fig, ax = plt.subplots(1, figsize=(15, 7))\n",
    "ax.set_title('AUDIO WAVEFORM')\n",
    "ax.set_xlabel('samples')\n",
    "ax.set_ylabel('pitch')\n",
    "x1=[]\n",
    "y1=[]\n",
    "ax.plot(x, y, color='r')\n",
    "for i in range(0,len(ArrayOfFrequencyYaxis)):\n",
    "    x1.append(ArrayOfTimeXaxis[i])\n",
    "    y1.append(ArrayOfFrequencyYaxis[i])\n",
    "    ax.plot(x1, y1, color='b')\n",
    "    fig.canvas.draw()\n",
    "    sleep(0.2)\n",
    "    fig.canvas.flush_events()\n",
    "    #frame_count += 1"
   ]
  },
  {
   "cell_type": "code",
   "execution_count": 13,
   "metadata": {
    "ExecuteTime": {
     "end_time": "2019-07-06T13:14:28.506856Z",
     "start_time": "2019-07-06T13:14:28.496887Z"
    }
   },
   "outputs": [],
   "source": [
    "# print(ArrayofTimeXaxis)\n",
    "# print(ArrayOfFrequencyYaxis)"
   ]
  },
  {
   "cell_type": "code",
   "execution_count": 14,
   "metadata": {
    "ExecuteTime": {
     "end_time": "2019-07-06T13:14:28.751295Z",
     "start_time": "2019-07-06T13:14:28.515840Z"
    }
   },
   "outputs": [],
   "source": [
    "plt.show()"
   ]
  },
  {
   "cell_type": "code",
   "execution_count": 15,
   "metadata": {
    "ExecuteTime": {
     "end_time": "2019-07-06T13:14:28.839330Z",
     "start_time": "2019-07-06T13:14:28.755288Z"
    }
   },
   "outputs": [],
   "source": [
    "# import matplotlib.pyplot as plt\n",
    "# %matplotlib tk\n",
    "# fig, ax = plt.subplots(1, figsize=(15, 7))\n",
    "# ax.set_title('AUDIO WAVEFORM')\n",
    "# ax.set_xlabel('samples')\n",
    "# ax.set_ylabel('pitch')\n",
    "# ax.plot(ArrayOfTimeXaxis, ArrayOfFrequencyYaxis*2, color='b')\n",
    "# plt.show()"
   ]
  },
  {
   "cell_type": "code",
   "execution_count": null,
   "metadata": {},
   "outputs": [],
   "source": []
  }
 ],
 "metadata": {
  "kernelspec": {
   "display_name": "Python 3",
   "language": "python",
   "name": "python3"
  },
  "language_info": {
   "codemirror_mode": {
    "name": "ipython",
    "version": 3
   },
   "file_extension": ".py",
   "mimetype": "text/x-python",
   "name": "python",
   "nbconvert_exporter": "python",
   "pygments_lexer": "ipython3",
   "version": "3.7.3"
  }
 },
 "nbformat": 4,
 "nbformat_minor": 2
}
